{
 "cells": [
  {
   "cell_type": "markdown",
   "id": "1c9cc699",
   "metadata": {},
   "source": [
    "Here we will build a Polynomial regression model to predict the previous salaries of a given candidate"
   ]
  },
  {
   "cell_type": "markdown",
   "id": "c71d2827",
   "metadata": {},
   "source": [
    "# Importing libraries and dataset"
   ]
  },
  {
   "cell_type": "code",
   "execution_count": 1,
   "id": "d2c61304",
   "metadata": {},
   "outputs": [],
   "source": [
    "import numpy as np\n",
    "import pandas as pd\n",
    "import matplotlib.pyplot as plt"
   ]
  },
  {
   "cell_type": "code",
   "execution_count": 3,
   "id": "4cc4a276",
   "metadata": {},
   "outputs": [
    {
     "data": {
      "text/html": [
       "<div>\n",
       "<style scoped>\n",
       "    .dataframe tbody tr th:only-of-type {\n",
       "        vertical-align: middle;\n",
       "    }\n",
       "\n",
       "    .dataframe tbody tr th {\n",
       "        vertical-align: top;\n",
       "    }\n",
       "\n",
       "    .dataframe thead th {\n",
       "        text-align: right;\n",
       "    }\n",
       "</style>\n",
       "<table border=\"1\" class=\"dataframe\">\n",
       "  <thead>\n",
       "    <tr style=\"text-align: right;\">\n",
       "      <th></th>\n",
       "      <th>Position</th>\n",
       "      <th>Level</th>\n",
       "      <th>Salary</th>\n",
       "    </tr>\n",
       "  </thead>\n",
       "  <tbody>\n",
       "    <tr>\n",
       "      <th>0</th>\n",
       "      <td>Business Analyst</td>\n",
       "      <td>1</td>\n",
       "      <td>45000</td>\n",
       "    </tr>\n",
       "    <tr>\n",
       "      <th>1</th>\n",
       "      <td>Junior Consultant</td>\n",
       "      <td>2</td>\n",
       "      <td>50000</td>\n",
       "    </tr>\n",
       "    <tr>\n",
       "      <th>2</th>\n",
       "      <td>Senior Consultant</td>\n",
       "      <td>3</td>\n",
       "      <td>60000</td>\n",
       "    </tr>\n",
       "    <tr>\n",
       "      <th>3</th>\n",
       "      <td>Manager</td>\n",
       "      <td>4</td>\n",
       "      <td>80000</td>\n",
       "    </tr>\n",
       "    <tr>\n",
       "      <th>4</th>\n",
       "      <td>Country Manager</td>\n",
       "      <td>5</td>\n",
       "      <td>110000</td>\n",
       "    </tr>\n",
       "    <tr>\n",
       "      <th>5</th>\n",
       "      <td>Region Manager</td>\n",
       "      <td>6</td>\n",
       "      <td>150000</td>\n",
       "    </tr>\n",
       "    <tr>\n",
       "      <th>6</th>\n",
       "      <td>Partner</td>\n",
       "      <td>7</td>\n",
       "      <td>200000</td>\n",
       "    </tr>\n",
       "    <tr>\n",
       "      <th>7</th>\n",
       "      <td>Senior Partner</td>\n",
       "      <td>8</td>\n",
       "      <td>300000</td>\n",
       "    </tr>\n",
       "    <tr>\n",
       "      <th>8</th>\n",
       "      <td>C-level</td>\n",
       "      <td>9</td>\n",
       "      <td>500000</td>\n",
       "    </tr>\n",
       "    <tr>\n",
       "      <th>9</th>\n",
       "      <td>CEO</td>\n",
       "      <td>10</td>\n",
       "      <td>1000000</td>\n",
       "    </tr>\n",
       "  </tbody>\n",
       "</table>\n",
       "</div>"
      ],
      "text/plain": [
       "            Position  Level   Salary\n",
       "0   Business Analyst      1    45000\n",
       "1  Junior Consultant      2    50000\n",
       "2  Senior Consultant      3    60000\n",
       "3            Manager      4    80000\n",
       "4    Country Manager      5   110000\n",
       "5     Region Manager      6   150000\n",
       "6            Partner      7   200000\n",
       "7     Senior Partner      8   300000\n",
       "8            C-level      9   500000\n",
       "9                CEO     10  1000000"
      ]
     },
     "execution_count": 3,
     "metadata": {},
     "output_type": "execute_result"
    }
   ],
   "source": [
    "dataset = pd.read_csv('Position_Salaries.csv')\n",
    "x = dataset.iloc[:,1:-1].values\n",
    "y = dataset.iloc[:,-1].values\n",
    "dataset"
   ]
  },
  {
   "cell_type": "markdown",
   "id": "7509c29d",
   "metadata": {},
   "source": [
    "Here we won't be splitting our dataset into training and test set because the list is small and we need all the data to train our PLR model.\n",
    "\n",
    "'Level' will be our matrix of features and 'Salary' will be our dependent variable vector. \n",
    "\n",
    "No need to encode the features. NO need for feature scaling either!\n",
    "\n",
    "We will compare a Linear regression model with a polynomial regression model"
   ]
  },
  {
   "cell_type": "markdown",
   "id": "f87fcb4a",
   "metadata": {},
   "source": [
    "# Training the Linear Regression model on the whole datatset "
   ]
  },
  {
   "cell_type": "code",
   "execution_count": 13,
   "id": "2ff386fb",
   "metadata": {},
   "outputs": [
    {
     "data": {
      "text/plain": [
       "LinearRegression()"
      ]
     },
     "execution_count": 13,
     "metadata": {},
     "output_type": "execute_result"
    }
   ],
   "source": [
    "from sklearn.linear_model import LinearRegression\n",
    "lin_reg = LinearRegression()\n",
    "lin_reg.fit(x,y)"
   ]
  },
  {
   "cell_type": "markdown",
   "id": "a099db36",
   "metadata": {},
   "source": [
    "# Training the Polynomial Regression model on the whole datatset"
   ]
  },
  {
   "cell_type": "markdown",
   "id": "3761a7d3",
   "metadata": {},
   "source": [
    " Now we will first build a MLR model. Create a matrix of features\n",
    " x_poly which has x1^2 in place of x2, x1^3 in place of x3\n",
    " and so on which is done by importing a class called PolynomialFeatures\n",
    " "
   ]
  },
  {
   "cell_type": "code",
   "execution_count": 17,
   "id": "676d5b1b",
   "metadata": {},
   "outputs": [],
   "source": [
    "from sklearn.preprocessing import PolynomialFeatures\n",
    "poly_reg = PolynomialFeatures(degree = 2)\n",
    "x_poly = poly_reg.fit_transform(x)"
   ]
  },
  {
   "cell_type": "markdown",
   "id": "ce503cee",
   "metadata": {},
   "source": [
    "If we chose degree = 2, x will be transformed into b0 +b1x + b2 x^2 "
   ]
  },
  {
   "cell_type": "markdown",
   "id": "c09f519e",
   "metadata": {},
   "source": [
    "Now we have to train the linear regression model on the new feature matrix x_poly"
   ]
  },
  {
   "cell_type": "code",
   "execution_count": 18,
   "id": "b36a018d",
   "metadata": {},
   "outputs": [
    {
     "data": {
      "text/plain": [
       "LinearRegression()"
      ]
     },
     "execution_count": 18,
     "metadata": {},
     "output_type": "execute_result"
    }
   ],
   "source": [
    "lin_reg_2 = LinearRegression()\n",
    "lin_reg_2.fit(x_poly, y)"
   ]
  },
  {
   "cell_type": "markdown",
   "id": "0d572e12",
   "metadata": {},
   "source": [
    "## Vizualizing Linear Regression results"
   ]
  },
  {
   "cell_type": "code",
   "execution_count": 21,
   "id": "23cdc45e",
   "metadata": {},
   "outputs": [
    {
     "data": {
      "image/png": "[encoded data removed]",
      "text/plain": [
       "<Figure size 432x288 with 1 Axes>"
      ]
     },
     "metadata": {
      "needs_background": "light"
     },
     "output_type": "display_data"
    }
   ],
   "source": [
    "plt.scatter(x, y, c = 'red')\n",
    "plt.plot(x, lin_reg.predict(x), c = 'blue')\n",
    "plt.title('Truth or bluff(Lin. reg. model)')\n",
    "plt.xlabel('position level')\n",
    "plt.ylabel('salary')\n",
    "plt.show()"
   ]
  },
  {
   "cell_type": "markdown",
   "id": "74150bf4",
   "metadata": {},
   "source": [
    "Clearly the Linear regression model is not well adapted for the given data!! "
   ]
  },
  {
   "cell_type": "markdown",
   "id": "d9bb19d4",
   "metadata": {},
   "source": [
    "## Vizualizing Polynomial Regression results"
   ]
  },
  {
   "cell_type": "code",
   "execution_count": 23,
   "id": "86863209",
   "metadata": {},
   "outputs": [
    {
     "data": {
      "image/png": "[encoded data removed]",
      "text/plain": [
       "<Figure size 432x288 with 1 Axes>"
      ]
     },
     "metadata": {
      "needs_background": "light"
     },
     "output_type": "display_data"
    }
   ],
   "source": [
    "plt.scatter(x, y, c = 'red')\n",
    "plt.plot(x, lin_reg_2.predict(x_poly), c = 'blue')\n",
    "plt.title('Truth or bluff(Lin. reg. model)')\n",
    "plt.xlabel('position level')\n",
    "plt.ylabel('salary')\n",
    "plt.show()"
   ]
  },
  {
   "cell_type": "markdown",
   "id": "140b177f",
   "metadata": {},
   "source": [
    "This is much closer to the observed datapoints!! And this is only with n(degree) = 2!!"
   ]
  },
  {
   "cell_type": "markdown",
   "id": "dbddf7c9",
   "metadata": {},
   "source": [
    "For degree = 4, the model will be as follows: "
   ]
  },
  {
   "cell_type": "code",
   "execution_count": 25,
   "id": "fd169853",
   "metadata": {},
   "outputs": [
    {
     "data": {
      "text/plain": [
       "LinearRegression()"
      ]
     },
     "execution_count": 25,
     "metadata": {},
     "output_type": "execute_result"
    }
   ],
   "source": [
    "from sklearn.preprocessing import PolynomialFeatures\n",
    "poly_reg = PolynomialFeatures(degree = 4)\n",
    "x_poly = poly_reg.fit_transform(x)\n",
    "\n",
    "lin_reg_2 = LinearRegression()\n",
    "lin_reg_2.fit(x_poly, y)"
   ]
  },
  {
   "cell_type": "code",
   "execution_count": 26,
   "id": "f3ab344f",
   "metadata": {},
   "outputs": [
    {
     "data": {
      "image/png": "[encoded data removed]",
      "text/plain": [
       "<Figure size 432x288 with 1 Axes>"
      ]
     },
     "metadata": {
      "needs_background": "light"
     },
     "output_type": "display_data"
    }
   ],
   "source": [
    "plt.scatter(x, y, c = 'red')\n",
    "plt.plot(x, lin_reg_2.predict(x_poly), c = 'blue')\n",
    "plt.title('Truth or bluff(Lin. reg. model)')\n",
    "plt.xlabel('position level')\n",
    "plt.ylabel('salary')\n",
    "plt.show()"
   ]
  },
  {
   "cell_type": "markdown",
   "id": "79e3533a",
   "metadata": {},
   "source": [
    "## Vizualizing Polynomial Regression results(for higher resolution and smoother curve)"
   ]
  },
  {
   "cell_type": "code",
   "execution_count": 28,
   "id": "14eb0979",
   "metadata": {},
   "outputs": [
    {
     "data": {
      "image/png": "[encoded data removed]",
      "text/plain": [
       "<Figure size 432x288 with 1 Axes>"
      ]
     },
     "metadata": {
      "needs_background": "light"
     },
     "output_type": "display_data"
    }
   ],
   "source": [
    "x_grid = np.arange(min(x), max(x), 0.1)\n",
    "x_grid = x_grid.reshape((len(x_grid), 1))\n",
    "plt.scatter(x, y, c = 'red')\n",
    "plt.plot(x, lin_reg_2.predict(x_poly), c = 'blue')\n",
    "plt.title('Truth or bluff(Lin. reg. model)')\n",
    "plt.xlabel('position level')\n",
    "plt.ylabel('salary')\n",
    "plt.show()"
   ]
  },
  {
   "cell_type": "markdown",
   "id": "54e3499c",
   "metadata": {},
   "source": [
    "# Predicting new new result with linear regression "
   ]
  },
  {
   "cell_type": "code",
   "execution_count": 31,
   "id": "c4b44204",
   "metadata": {},
   "outputs": [
    {
     "data": {
      "text/plain": [
       "array([330378.78787879])"
      ]
     },
     "execution_count": 31,
     "metadata": {},
     "output_type": "execute_result"
    }
   ],
   "source": [
    "lin_reg.predict([[6.5]])"
   ]
  },
  {
   "cell_type": "markdown",
   "id": "97276220",
   "metadata": {},
   "source": [
    "## Predicting new new result with polynomial regression"
   ]
  },
  {
   "cell_type": "code",
   "execution_count": 33,
   "id": "c015398e",
   "metadata": {},
   "outputs": [
    {
     "data": {
      "text/plain": [
       "array([158862.45265158])"
      ]
     },
     "execution_count": 33,
     "metadata": {},
     "output_type": "execute_result"
    }
   ],
   "source": [
    "lin_reg_2.predict(poly_reg.fit_transform([[6.5]]))"
   ]
  },
  {
   "cell_type": "code",
   "execution_count": null,
   "id": "53111c44",
   "metadata": {},
   "outputs": [],
   "source": []
  }
 ],
 "metadata": {
  "kernelspec": {
   "display_name": "Python 3",
   "language": "python",
   "name": "python3"
  },
  "language_info": {
   "codemirror_mode": {
    "name": "ipython",
    "version": 3
   },
   "file_extension": ".py",
   "mimetype": "text/x-python",
   "name": "python",
   "nbconvert_exporter": "python",
   "pygments_lexer": "ipython3",
   "version": "3.6.9"
  }
 },
 "nbformat": 4,
 "nbformat_minor": 5
}
